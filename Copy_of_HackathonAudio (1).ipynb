{
  "cells": [
    {
      "cell_type": "markdown",
      "metadata": {
        "id": "0etRtS83RcWS"
      },
      "source": [
        "# Gemini API: Audio Quickstart\n",
        "\n",
        "<table align=\"left\">\n",
        "  <td>\n",
        "    <a target=\"_blank\" href=\"https://colab.research.google.com/github/google-gemini/cookbook/blob/main/quickstarts/Audio.ipynb\"><img src=\"https://www.tensorflow.org/images/colab_logo_32px.png\" />Run in Google Colab</a>\n",
        "  </td>\n",
        "</table>"
      ]
    },
    {
      "cell_type": "markdown",
      "source": [
        "This notebook provides an example of how to prompt Gemini 1.5 Pro using an audio file. In this case, you'll use a [sound recording](https://www.jfklibrary.org/asset-viewer/archives/jfkwha-006) of President John F. Kennedy’s 1961 State of the Union address."
      ],
      "metadata": {
        "id": "r1IzNLho-NqV"
      }
    },
    {
      "cell_type": "code",
      "execution_count": null,
      "metadata": {
        "id": "Y6eH_Aq_NyNi",
        "colab": {
          "base_uri": "https://localhost:8080/"
        },
        "outputId": "090c2bcb-7aa5-4701-8d79-eaf3da8e1740"
      },
      "outputs": [
        {
          "output_type": "stream",
          "name": "stdout",
          "text": [
            "\u001b[2K     \u001b[90m━━━━━━━━━━━━━━━━━━━━━━━━━━━━━━━━━━━━━━━━\u001b[0m \u001b[32m142.1/142.1 kB\u001b[0m \u001b[31m2.4 MB/s\u001b[0m eta \u001b[36m0:00:00\u001b[0m\n",
            "\u001b[2K     \u001b[90m━━━━━━━━━━━━━━━━━━━━━━━━━━━━━━━━━━━━━━━━\u001b[0m \u001b[32m663.6/663.6 kB\u001b[0m \u001b[31m8.6 MB/s\u001b[0m eta \u001b[36m0:00:00\u001b[0m\n",
            "\u001b[?25h"
          ]
        }
      ],
      "source": [
        "!pip install -q -U google-generativeai"
      ]
    },
    {
      "cell_type": "code",
      "execution_count": 4,
      "metadata": {
        "id": "LSe1pMEpR2L2"
      },
      "outputs": [],
      "source": [
        "import google.generativeai as genai"
      ]
    },
    {
      "cell_type": "markdown",
      "metadata": {
        "id": "TXiv-NeZR5WA"
      },
      "source": [
        "## Configure your API key\n",
        "\n",
        "To run the following cell, your API key must be stored it in a Colab Secret named `GOOGLE_API_KEY`. If you don't already have an API key, or you're not sure how to create a Colab Secret, see [Authentication](https://github.com/google-gemini/cookbook/blob/main/quickstarts/Authentication.ipynb) for an example."
      ]
    },
    {
      "cell_type": "code",
      "execution_count": 5,
      "metadata": {
        "id": "dm-iaNMGPdid"
      },
      "outputs": [],
      "source": [
        "from google.colab import userdata\n",
        "GOOGLE_API_KEY=userdata.get('GOOGLE_API_KEY')\n",
        "\n",
        "genai.configure(api_key=GOOGLE_API_KEY)"
      ]
    },
    {
      "cell_type": "markdown",
      "metadata": {
        "id": "2YoxMrCdR7hf"
      },
      "source": [
        "## Upload an audio file with the File API\n",
        "\n",
        "To use an audio file in your prompt, you must first upload it using the [File API](https://github.com/google-gemini/cookbook/blob/main/quickstarts/File_API.ipynb).\n"
      ]
    },
    {
      "cell_type": "code",
      "execution_count": null,
      "metadata": {
        "id": "MAObE0BpaAwG"
      },
      "outputs": [],
      "source": [
        "your_file = genai.upload_file(path='sample_free_tmr .wav')"
      ]
    },
    {
      "cell_type": "code",
      "source": [
        "from google.colab import drive\n",
        "drive.mount('/content/drive')"
      ],
      "metadata": {
        "colab": {
          "base_uri": "https://localhost:8080/"
        },
        "id": "gJYbdNNAosDg",
        "outputId": "0deeba6c-26e9-4d5a-bf83-f8132006bb47"
      },
      "execution_count": null,
      "outputs": [
        {
          "output_type": "stream",
          "name": "stdout",
          "text": [
            "Mounted at /content/drive\n"
          ]
        }
      ]
    },
    {
      "cell_type": "markdown",
      "metadata": {
        "id": "m01XDoo4UQvN"
      },
      "source": [
        "## Use the file in your prompt"
      ]
    },
    {
      "cell_type": "code",
      "execution_count": 57,
      "metadata": {
        "id": "YmISEsqpafRb",
        "outputId": "d3bdef51-96ed-48f5-ec9a-0c852f6ac8de",
        "colab": {
          "base_uri": "https://localhost:8080/"
        }
      },
      "outputs": [
        {
          "output_type": "stream",
          "name": "stdout",
          "text": [
            "{\"system_instruction\": {\"parts\": {\"text\": \"You are binks that is having a conversation.You are 20 years old and enjoy ['soccer', 'video games', 'coding'] hobbies and your occupation is student.Only talk about these attributes if you are certain they are relevant to the conversation.You will generate ten feasible responses to the conversation.Do not include any additional text describing each reponse, just the list of responses.\"}}, \"contents\": [{\"role\": \"user\", \"parts\": [{\"text\": \"What are you doing after school? Return a list of phrases that can be used in response to the conversational input using this JSON schema:\\n                  {type: object, properties: { phrase: {type: string}}}\"}]}], \"generationConfig\": {\"response_mime_type\": \"application/json\"}}\n",
            "{'candidates': [{'content': {'parts': [{'text': '[\\n  {\"phrase\":\"Probably just heading home and relaxing a bit.\"},\\n  {\"phrase\":\"I might work on some coding projects, or maybe play some video games.\"},\\n  {\"phrase\":\"If the weather\\'s nice, I might go for a run or kick around a soccer ball.\"},\\n  {\"phrase\":\"I need to catch up on some homework, unfortunately.\"},\\n  {\"phrase\":\"Not sure yet, I\\'m open to suggestions!\"},\\n  {\"phrase\":\"Maybe hanging out with some friends, if anyone\\'s free.\"},\\n  {\"phrase\":\"I have a soccer game later, so I\\'ll be busy with that.\"},\\n  {\"phrase\":\"Thinking about starting a new video game, any recommendations?\"},\\n  {\"phrase\":\"Just the usual after-school routine for a student.\"},\\n  {\"phrase\":\"Hoping to get some coding practice in, I\\'m working on a personal project.\"}\\n]\\n'}], 'role': 'model'}, 'finishReason': 'STOP', 'index': 0, 'safetyRatings': [{'category': 'HARM_CATEGORY_SEXUALLY_EXPLICIT', 'probability': 'NEGLIGIBLE'}, {'category': 'HARM_CATEGORY_HATE_SPEECH', 'probability': 'NEGLIGIBLE'}, {'category': 'HARM_CATEGORY_HARASSMENT', 'probability': 'NEGLIGIBLE'}, {'category': 'HARM_CATEGORY_DANGEROUS_CONTENT', 'probability': 'NEGLIGIBLE'}]}]}\n"
          ]
        }
      ],
      "source": [
        "import json\n",
        "\n",
        "user_data = {\n",
        "  \"name\" : \"binks\",\n",
        "  \"age\" : 20,\n",
        "  \"hobbies\" : [\"soccer\", \"video games\", \"coding\"],\n",
        "  \"occupation\" : \"student\"\n",
        "}\n",
        "\n",
        "\n",
        "\n",
        "\n",
        "\n",
        "# instruction = (\n",
        "#     f\"You are {user['name']}.\"\n",
        "# )\n",
        "\n",
        "text_input = '\"What are you doing after school?\"'\n",
        "\n",
        "# model = genai.GenerativeModel(\n",
        "#     'models/gemini-1.5-pro-latest',\n",
        "#     system_instruction=instruction\n",
        "#   )\n",
        "# response = model.generate_content([prompt, text_input])\n",
        "# responses = response.text.replace('\\n', '').split(\";\")\n",
        "# print(responses)\n",
        "import requests\n",
        "\n",
        "headers = {\n",
        "    'Content-Type': 'application/json',\n",
        "}\n",
        "\n",
        "prompt = \"What are you doing after school? Return a list of phrases that can be used in response to the conversational input using this JSON schema:\\n                  {type: object, properties: { phrase: {type: string}}}\"\n",
        "user = {\"role\":\"user\", \"parts\":[{ \"text\": prompt}]}\n",
        "contents = user\n",
        "\n",
        "\n",
        "instruction = (\n",
        "    f\"You are {user_data['name']} that is having a conversation.\"\n",
        "    f\"You are {user_data['age']} years old and enjoy {user_data['hobbies']} hobbies and your occupation is {user_data['occupation']}.\"\n",
        "    \"Only talk about these attributes if you are certain they are relevant to the conversation.\"\n",
        "    \"You will generate ten feasible responses to the conversation.\"\n",
        "    \"Do not include any additional text describing each reponse, just the list of responses.\"\n",
        ")\n",
        "data = {\"system_instruction\": {\"parts\": { \"text\": instruction}}, \"contents\": [contents], \"generationConfig\": {\"response_mime_type\": \"application/json\",}}\n",
        "print(json.dumps(data))\n",
        "\n",
        "# data = '{ \"system_instruction\": {\\n    \"parts\":\\n      { \"text\": ' + f'\"{instruction}\"' + '}},\\n      \"contents\": [{\\n            \"parts\": [\\n              {\\n                \"text\": '+ f'{prompt}' + '\\n              }\\n            ]\\n          }],\\n          \"generationConfig\": {\\n            \"response_mime_type\": \"application/json\",\\n          }\\n        }'\n",
        "\n",
        "\n",
        "response = requests.post(\n",
        "    f'https://generativelanguage.googleapis.com/v1beta/models/gemini-1.5-pro-latest:generateContent?key={GOOGLE_API_KEY}',\n",
        "    headers=headers,\n",
        "    data=json.dumps(data),\n",
        ")\n",
        "\n",
        "dictionary = response.json()\n",
        "\n",
        "\n",
        "\n",
        "\n",
        "print(dictionary)"
      ]
    },
    {
      "cell_type": "code",
      "source": [
        "print(dictionary)"
      ],
      "metadata": {
        "colab": {
          "base_uri": "https://localhost:8080/"
        },
        "id": "63Gl67JG3Cby",
        "outputId": "2647c205-3664-410c-9248-239a50e90483"
      },
      "execution_count": 44,
      "outputs": [
        {
          "output_type": "stream",
          "name": "stdout",
          "text": [
            "{'candidates': [{'content': {'parts': [{'text': '```json\\n[\\n  {\\n    \"phrase\": \"I\\'m heading to soccer practice. Gotta keep my skills sharp!\"\\n  },\\n  {\\n    \"phrase\": \"Probably just gonna chill and play some video games. What about you?\"\\n  },\\n  {\\n    \"phrase\": \"I\\'ve got a coding project I\\'m working on, so I\\'ll be busy with that.\"\\n  },\\n  {\\n    \"phrase\": \"Might catch up on some homework, then see what\\'s going on.\"\\n  },\\n  {\\n    \"phrase\": \"Not sure yet, probably just relax and hang out.\"\\n  },\\n  {\\n    \"phrase\": \"I might go for a run to clear my head after a day of classes.\"\\n  },\\n  {\\n    \"phrase\": \"Thinking about checking out that new café downtown.\"\\n  },\\n  {\\n    \"phrase\": \"I need to go grocery shopping, boring but necessary.\"\\n  },\\n  {\\n    \"phrase\": \"Maybe I\\'ll call up some friends and see if they\\'re up to anything.\"\\n  },\\n  {\\n    \"phrase\": \"Honestly, probably just going to take a nap. School\\'s exhausting.\" \\n  }\\n]\\n```'}], 'role': 'model'}, 'finishReason': 'STOP', 'index': 0, 'safetyRatings': [{'category': 'HARM_CATEGORY_SEXUALLY_EXPLICIT', 'probability': 'NEGLIGIBLE'}, {'category': 'HARM_CATEGORY_HATE_SPEECH', 'probability': 'NEGLIGIBLE'}, {'category': 'HARM_CATEGORY_HARASSMENT', 'probability': 'NEGLIGIBLE'}, {'category': 'HARM_CATEGORY_DANGEROUS_CONTENT', 'probability': 'NEGLIGIBLE'}]}]}\n"
          ]
        }
      ]
    },
    {
      "cell_type": "code",
      "source": [
        "import json\n",
        "responses = dictionary['candidates'][0]['content']['parts'][0]['text']\n",
        "new = json.loads(responses)\n",
        "for response in new:\n",
        "  print(response['phrase'])\n"
      ],
      "metadata": {
        "colab": {
          "base_uri": "https://localhost:8080/"
        },
        "id": "eB-UoZmkGHDk",
        "outputId": "384eca2c-6e43-47c9-cf08-a62d31464b22"
      },
      "execution_count": 58,
      "outputs": [
        {
          "output_type": "stream",
          "name": "stdout",
          "text": [
            "Probably just heading home and relaxing a bit.\n",
            "I might work on some coding projects, or maybe play some video games.\n",
            "If the weather's nice, I might go for a run or kick around a soccer ball.\n",
            "I need to catch up on some homework, unfortunately.\n",
            "Not sure yet, I'm open to suggestions!\n",
            "Maybe hanging out with some friends, if anyone's free.\n",
            "I have a soccer game later, so I'll be busy with that.\n",
            "Thinking about starting a new video game, any recommendations?\n",
            "Just the usual after-school routine for a student.\n",
            "Hoping to get some coding practice in, I'm working on a personal project.\n"
          ]
        }
      ]
    },
    {
      "cell_type": "code",
      "source": [
        "chosen_response = new[2]['phrase']\n",
        "print(chosen_response)\n",
        "\n"
      ],
      "metadata": {
        "colab": {
          "base_uri": "https://localhost:8080/"
        },
        "id": "23_p_syuAiK_",
        "outputId": "1d392491-1de8-4c1d-c123-7c6ef7e621bf"
      },
      "execution_count": 59,
      "outputs": [
        {
          "output_type": "stream",
          "name": "stdout",
          "text": [
            "If the weather's nice, I might go for a run or kick around a soccer ball.\n"
          ]
        }
      ]
    },
    {
      "cell_type": "markdown",
      "metadata": {
        "id": "WVFm2MOLWJO5"
      },
      "source": [
        "## Count audio tokens\n",
        "\n",
        "You can count the number of tokens in your audio file like this."
      ]
    },
    {
      "cell_type": "code",
      "execution_count": null,
      "metadata": {
        "id": "O0xk2-6CWLfC",
        "outputId": "3a3a117d-64fa-4527-8d71-739fe803212b"
      },
      "outputs": [
        {
          "data": {
            "text/plain": [
              "total_tokens: 78330"
            ]
          },
          "execution_count": 9,
          "metadata": {},
          "output_type": "execute_result"
        }
      ],
      "source": [
        "model.count_tokens([your_file])"
      ]
    },
    {
      "cell_type": "markdown",
      "metadata": {
        "id": "zxxIUR8SV6dK"
      },
      "source": [
        "## Learning more"
      ]
    },
    {
      "cell_type": "markdown",
      "metadata": {
        "id": "zudj6gxEWR2Q"
      },
      "source": [
        "* Learn more about the [File API](https://github.com/google-gemini/cookbook/blob/main/quickstarts/File_API.ipynb) with the quickstart.\n",
        "\n",
        "* Learn more about prompting with [media files](https://ai.google.dev/tutorials/prompting_with_media) in the docs, including the supported formats and maximum length for audio files."
      ]
    }
  ],
  "metadata": {
    "colab": {
      "provenance": []
    },
    "kernelspec": {
      "display_name": "Python 3",
      "name": "python3"
    }
  },
  "nbformat": 4,
  "nbformat_minor": 0
}