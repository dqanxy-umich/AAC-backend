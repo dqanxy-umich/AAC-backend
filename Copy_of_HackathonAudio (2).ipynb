{
  "cells": [
    {
      "cell_type": "markdown",
      "metadata": {
        "id": "0etRtS83RcWS"
      },
      "source": [
        "# Gemini API: Audio Quickstart\n",
        "\n",
        "<table align=\"left\">\n",
        "  <td>\n",
        "    <a target=\"_blank\" href=\"https://colab.research.google.com/github/google-gemini/cookbook/blob/main/quickstarts/Audio.ipynb\"><img src=\"https://www.tensorflow.org/images/colab_logo_32px.png\" />Run in Google Colab</a>\n",
        "  </td>\n",
        "</table>"
      ]
    },
    {
      "cell_type": "markdown",
      "source": [
        "This notebook provides an example of how to prompt Gemini 1.5 Pro using an audio file. In this case, you'll use a [sound recording](https://www.jfklibrary.org/asset-viewer/archives/jfkwha-006) of President John F. Kennedy’s 1961 State of the Union address."
      ],
      "metadata": {
        "id": "r1IzNLho-NqV"
      }
    },
    {
      "cell_type": "code",
      "execution_count": null,
      "metadata": {
        "id": "Y6eH_Aq_NyNi",
        "colab": {
          "base_uri": "https://localhost:8080/"
        },
        "outputId": "090c2bcb-7aa5-4701-8d79-eaf3da8e1740"
      },
      "outputs": [
        {
          "output_type": "stream",
          "name": "stdout",
          "text": [
            "\u001b[2K     \u001b[90m━━━━━━━━━━━━━━━━━━━━━━━━━━━━━━━━━━━━━━━━\u001b[0m \u001b[32m142.1/142.1 kB\u001b[0m \u001b[31m2.4 MB/s\u001b[0m eta \u001b[36m0:00:00\u001b[0m\n",
            "\u001b[2K     \u001b[90m━━━━━━━━━━━━━━━━━━━━━━━━━━━━━━━━━━━━━━━━\u001b[0m \u001b[32m663.6/663.6 kB\u001b[0m \u001b[31m8.6 MB/s\u001b[0m eta \u001b[36m0:00:00\u001b[0m\n",
            "\u001b[?25h"
          ]
        }
      ],
      "source": [
        "!pip install -q -U google-generativeai"
      ]
    },
    {
      "cell_type": "code",
      "execution_count": 4,
      "metadata": {
        "id": "LSe1pMEpR2L2"
      },
      "outputs": [],
      "source": [
        "import google.generativeai as genai"
      ]
    },
    {
      "cell_type": "markdown",
      "metadata": {
        "id": "TXiv-NeZR5WA"
      },
      "source": [
        "## Configure your API key\n",
        "\n",
        "To run the following cell, your API key must be stored it in a Colab Secret named `GOOGLE_API_KEY`. If you don't already have an API key, or you're not sure how to create a Colab Secret, see [Authentication](https://github.com/google-gemini/cookbook/blob/main/quickstarts/Authentication.ipynb) for an example."
      ]
    },
    {
      "cell_type": "code",
      "execution_count": 5,
      "metadata": {
        "id": "dm-iaNMGPdid"
      },
      "outputs": [],
      "source": [
        "from google.colab import userdata\n",
        "GOOGLE_API_KEY=userdata.get('GOOGLE_API_KEY')\n",
        "\n",
        "genai.configure(api_key=GOOGLE_API_KEY)"
      ]
    },
    {
      "cell_type": "markdown",
      "metadata": {
        "id": "2YoxMrCdR7hf"
      },
      "source": [
        "## Upload an audio file with the File API\n",
        "\n",
        "To use an audio file in your prompt, you must first upload it using the [File API](https://github.com/google-gemini/cookbook/blob/main/quickstarts/File_API.ipynb).\n"
      ]
    },
    {
      "cell_type": "code",
      "execution_count": null,
      "metadata": {
        "id": "MAObE0BpaAwG"
      },
      "outputs": [],
      "source": [
        "your_file = genai.upload_file(path='sample_free_tmr .wav')"
      ]
    },
    {
      "cell_type": "code",
      "source": [
        "from google.colab import drive\n",
        "drive.mount('/content/drive')"
      ],
      "metadata": {
        "colab": {
          "base_uri": "https://localhost:8080/"
        },
        "id": "gJYbdNNAosDg",
        "outputId": "0deeba6c-26e9-4d5a-bf83-f8132006bb47"
      },
      "execution_count": null,
      "outputs": [
        {
          "output_type": "stream",
          "name": "stdout",
          "text": [
            "Mounted at /content/drive\n"
          ]
        }
      ]
    },
    {
      "cell_type": "markdown",
      "metadata": {
        "id": "m01XDoo4UQvN"
      },
      "source": [
        "## Use the file in your prompt"
      ]
    },
    {
      "cell_type": "code",
      "execution_count": 93,
      "metadata": {
        "id": "YmISEsqpafRb",
        "outputId": "4e4a861e-81bf-46a9-daf3-d5614963e866",
        "colab": {
          "base_uri": "https://localhost:8080/"
        }
      },
      "outputs": [
        {
          "output_type": "stream",
          "name": "stdout",
          "text": [
            "{\"system_instruction\": {\"parts\": {\"text\": \"You are binks that is having a conversation.You are 20 years old and enjoy ['soccer', 'video games', 'coding'] hobbies and your occupation is student.Only talk about these attributes if you are certain they are relevant to the conversation.You will generate ten feasible responses to the conversation.Do not include any additional text describing each reponse, just the list of responses.\"}}, \"contents\": [{\"role\": \"user\", \"parts\": [{\"text\": \"What are you doing after school? Return a list of phrases that can be used in response to the conversational input using this JSON schema:\\n                  {type: object, properties: { phrase: {type: string}}}\"}]}], \"generationConfig\": {\"response_mime_type\": \"application/json\"}}\n",
            "{'candidates': [{'content': {'parts': [{'text': '[\\n  {\"phrase\": \"I haven\\'t decided yet. Do you have any suggestions?\"},\\n  {\"phrase\": \"I might hang out with some friends. What about you?\"},\\n  {\"phrase\": \"Probably going to work on some coding projects.\"},\\n  {\"phrase\": \"Maybe I\\'ll play some video games to unwind.\"},\\n  {\"phrase\": \"I have soccer practice later today.\"},\\n  {\"phrase\": \"Not sure, it depends on what homework I have.\"},\\n  {\"phrase\": \"I\\'m open to ideas, what are you up to?\"},\\n  {\"phrase\": \"Thinking about going to the gym.\"},\\n  {\"phrase\": \"Might just relax and watch some TV.\"},\\n  {\"phrase\": \"I need to catch up on some studying.\"}\\n]\\n'}], 'role': 'model'}, 'finishReason': 'STOP', 'index': 0, 'safetyRatings': [{'category': 'HARM_CATEGORY_SEXUALLY_EXPLICIT', 'probability': 'NEGLIGIBLE'}, {'category': 'HARM_CATEGORY_HATE_SPEECH', 'probability': 'NEGLIGIBLE'}, {'category': 'HARM_CATEGORY_HARASSMENT', 'probability': 'NEGLIGIBLE'}, {'category': 'HARM_CATEGORY_DANGEROUS_CONTENT', 'probability': 'NEGLIGIBLE'}]}]}\n"
          ]
        }
      ],
      "source": [
        "import json\n",
        "\n",
        "user_data = {\n",
        "  \"name\" : \"binks\",\n",
        "  \"age\" : 20,\n",
        "  \"hobbies\" : [\"soccer\", \"video games\", \"coding\"],\n",
        "  \"occupation\" : \"student\"\n",
        "}\n",
        "\n",
        "\n",
        "\n",
        "\n",
        "\n",
        "# instruction = (\n",
        "#     f\"You are {user['name']}.\"\n",
        "# )\n",
        "\n",
        "text_input = '\"What are you doing after school?\"'\n",
        "\n",
        "# model = genai.GenerativeModel(\n",
        "#     'models/gemini-1.5-pro-latest',\n",
        "#     system_instruction=instruction\n",
        "#   )\n",
        "# response = model.generate_content([prompt, text_input])\n",
        "# responses = response.text.replace('\\n', '').split(\";\")\n",
        "# print(responses)\n",
        "import requests\n",
        "\n",
        "headers = {\n",
        "    'Content-Type': 'application/json',\n",
        "}\n",
        "json_schema = \"Return a list of phrases that can be used in response to the conversational input using this JSON schema:\\n                  {type: object, properties: { phrase: {type: string}}}\"\n",
        "input = \"What are you doing after school?\"\n",
        "prompt = f\"{input} {json_schema}\"\n",
        "user = {\"role\":\"user\", \"parts\":[{ \"text\": prompt}]}\n",
        "contents = [user]\n",
        "\n",
        "\n",
        "instruction = (\n",
        "    f\"You are {user_data['name']} that is having a conversation.\"\n",
        "    f\"You are {user_data['age']} years old and enjoy {user_data['hobbies']} hobbies and your occupation is {user_data['occupation']}.\"\n",
        "    \"Only talk about these attributes if you are certain they are relevant to the conversation.\"\n",
        "    \"You will generate ten feasible responses to the conversation.\"\n",
        "    \"Do not include any additional text describing each reponse, just the list of responses.\"\n",
        ")\n",
        "data = {\"system_instruction\": {\"parts\": { \"text\": instruction}}, \"contents\": contents, \"generationConfig\": {\"response_mime_type\": \"application/json\",}}\n",
        "print(json.dumps(data))\n",
        "\n",
        "# data = '{ \"system_instruction\": {\\n    \"parts\":\\n      { \"text\": ' + f'\"{instruction}\"' + '}},\\n      \"contents\": [{\\n            \"parts\": [\\n              {\\n                \"text\": '+ f'{prompt}' + '\\n              }\\n            ]\\n          }],\\n          \"generationConfig\": {\\n            \"response_mime_type\": \"application/json\",\\n          }\\n        }'\n",
        "\n",
        "\n",
        "response = requests.post(\n",
        "    f'https://generativelanguage.googleapis.com/v1beta/models/gemini-1.5-pro-latest:generateContent?key={GOOGLE_API_KEY}',\n",
        "    headers=headers,\n",
        "    data=json.dumps(data),\n",
        ")\n",
        "\n",
        "dictionary = response.json()\n",
        "\n",
        "\n",
        "\n",
        "\n",
        "print(dictionary)"
      ]
    },
    {
      "cell_type": "code",
      "source": [
        "import json\n",
        "model_responses = json.loads(dictionary['candidates'][0]['content']['parts'][0]['text'])\n",
        "print(model_responses)\n",
        "text = model_responses\n",
        "chosen_response = model_responses[0]['phrase']"
      ],
      "metadata": {
        "colab": {
          "base_uri": "https://localhost:8080/"
        },
        "id": "eB-UoZmkGHDk",
        "outputId": "dd708082-96da-4d44-b4db-fa0334c8df2b"
      },
      "execution_count": 94,
      "outputs": [
        {
          "output_type": "stream",
          "name": "stdout",
          "text": [
            "[{'phrase': \"I haven't decided yet. Do you have any suggestions?\"}, {'phrase': 'I might hang out with some friends. What about you?'}, {'phrase': 'Probably going to work on some coding projects.'}, {'phrase': \"Maybe I'll play some video games to unwind.\"}, {'phrase': 'I have soccer practice later today.'}, {'phrase': 'Not sure, it depends on what homework I have.'}, {'phrase': \"I'm open to ideas, what are you up to?\"}, {'phrase': 'Thinking about going to the gym.'}, {'phrase': 'Might just relax and watch some TV.'}, {'phrase': 'I need to catch up on some studying.'}]\n"
          ]
        }
      ]
    },
    {
      "cell_type": "code",
      "source": [
        "print(chosen_response)"
      ],
      "metadata": {
        "colab": {
          "base_uri": "https://localhost:8080/"
        },
        "id": "jyJfZpaBLQEm",
        "outputId": "ac895b6e-36f3-4376-98b7-6b9991d1c4c9"
      },
      "execution_count": 95,
      "outputs": [
        {
          "output_type": "stream",
          "name": "stdout",
          "text": [
            "I haven't decided yet. Do you have any suggestions?\n"
          ]
        }
      ]
    },
    {
      "cell_type": "code",
      "source": [
        "# model = {\"role\":\"model\", \"parts\":[{ \"text\": \"Probably going to hang out with some friends.\"}]}\n",
        "# contents.append(model)\n",
        "input = \"Do you want to get ice cream?.\"\n",
        "prompt = f\"You respond with {chosen_response}. The person you are talking with then says, {input} {json_schema}\"\n",
        "user = {\"role\":\"user\", \"parts\":[{ \"text\": prompt}]}\n",
        "\n",
        "contents.append(user)\n",
        "data = {\"system_instruction\": {\"parts\": { \"text\": instruction}}, \"contents\": contents, \"generationConfig\": {\"response_mime_type\": \"application/json\",}}\n",
        "\n",
        "response = requests.post(\n",
        "    f'https://generativelanguage.googleapis.com/v1beta/models/gemini-1.5-pro-latest:generateContent?key={GOOGLE_API_KEY}',\n",
        "    headers=headers,\n",
        "    data=json.dumps(data),\n",
        ")\n",
        "\n",
        "print(contents[1]['parts'])\n",
        "dictionary = response.json()\n",
        "\n",
        "print(dictionary)"
      ],
      "metadata": {
        "colab": {
          "base_uri": "https://localhost:8080/"
        },
        "id": "23_p_syuAiK_",
        "outputId": "06be39cc-fcbd-4a1a-8cf0-e96dd688c3ae"
      },
      "execution_count": 96,
      "outputs": [
        {
          "output_type": "stream",
          "name": "stdout",
          "text": [
            "[{'text': \"You respond with I haven't decided yet. Do you have any suggestions?. The person you are talking with then says, Do you want to get ice cream?. Return a list of phrases that can be used in response to the conversational input using this JSON schema:\\n                  {type: object, properties: { phrase: {type: string}}}\"}]\n",
            "{'candidates': [{'content': {'parts': [{'text': '[\\n  {\\n    \"phrase\": \"Ice cream sounds great!\"\\n  },\\n  {\\n    \"phrase\": \"I\\'d love to, thanks for the suggestion!\"\\n  },\\n  {\\n    \"phrase\": \"Sure, I\\'m always down for ice cream.\"\\n  },\\n  {\\n    \"phrase\": \"Yeah, let\\'s go get some ice cream.\"\\n  },\\n  {\\n    \"phrase\": \"That\\'s a great idea, I\\'m craving something sweet.\"\\n  },\\n  {\\n    \"phrase\": \"I could definitely go for some ice cream right now.\"\\n  },\\n  {\\n    \"phrase\": \"Is there a particular place you had in mind?\"\\n  },\\n  {\\n    \"phrase\": \"What kind of ice cream are you thinking of getting?\"\\n  },\\n  {\\n    \"phrase\": \"Let\\'s do it! I haven\\'t had ice cream in ages.\"\\n  },\\n  {\\n    \"phrase\": \"Awesome, I\\'m in the mood for something cold and refreshing.\"\\n  }\\n]\\n\\n'}], 'role': 'model'}, 'finishReason': 'STOP', 'index': 0, 'safetyRatings': [{'category': 'HARM_CATEGORY_SEXUALLY_EXPLICIT', 'probability': 'NEGLIGIBLE'}, {'category': 'HARM_CATEGORY_HATE_SPEECH', 'probability': 'NEGLIGIBLE'}, {'category': 'HARM_CATEGORY_HARASSMENT', 'probability': 'NEGLIGIBLE'}, {'category': 'HARM_CATEGORY_DANGEROUS_CONTENT', 'probability': 'NEGLIGIBLE'}]}]}\n"
          ]
        }
      ]
    },
    {
      "cell_type": "code",
      "source": [
        "model_responses = json.loads(dictionary['candidates'][0]['content']['parts'][0]['text'])\n",
        "print(model_responses)\n",
        "chosen_response = model_responses[0]['phrase']\n",
        "print(chosen_response)"
      ],
      "metadata": {
        "colab": {
          "base_uri": "https://localhost:8080/"
        },
        "id": "NunsnpqKDpJr",
        "outputId": "21a8f868-130a-45cf-855c-ffb1f9a4dd0c"
      },
      "execution_count": 97,
      "outputs": [
        {
          "output_type": "stream",
          "name": "stdout",
          "text": [
            "[{'phrase': 'Ice cream sounds great!'}, {'phrase': \"I'd love to, thanks for the suggestion!\"}, {'phrase': \"Sure, I'm always down for ice cream.\"}, {'phrase': \"Yeah, let's go get some ice cream.\"}, {'phrase': \"That's a great idea, I'm craving something sweet.\"}, {'phrase': 'I could definitely go for some ice cream right now.'}, {'phrase': 'Is there a particular place you had in mind?'}, {'phrase': 'What kind of ice cream are you thinking of getting?'}, {'phrase': \"Let's do it! I haven't had ice cream in ages.\"}, {'phrase': \"Awesome, I'm in the mood for something cold and refreshing.\"}]\n",
            "Ice cream sounds great!\n"
          ]
        }
      ]
    },
    {
      "cell_type": "markdown",
      "metadata": {
        "id": "WVFm2MOLWJO5"
      },
      "source": [
        "## Count audio tokens\n",
        "\n",
        "You can count the number of tokens in your audio file like this."
      ]
    },
    {
      "cell_type": "code",
      "execution_count": null,
      "metadata": {
        "id": "O0xk2-6CWLfC",
        "outputId": "3a3a117d-64fa-4527-8d71-739fe803212b"
      },
      "outputs": [
        {
          "data": {
            "text/plain": [
              "total_tokens: 78330"
            ]
          },
          "execution_count": 9,
          "metadata": {},
          "output_type": "execute_result"
        }
      ],
      "source": [
        "model.count_tokens([your_file])"
      ]
    },
    {
      "cell_type": "markdown",
      "metadata": {
        "id": "zxxIUR8SV6dK"
      },
      "source": [
        "## Learning more"
      ]
    },
    {
      "cell_type": "markdown",
      "metadata": {
        "id": "zudj6gxEWR2Q"
      },
      "source": [
        "* Learn more about the [File API](https://github.com/google-gemini/cookbook/blob/main/quickstarts/File_API.ipynb) with the quickstart.\n",
        "\n",
        "* Learn more about prompting with [media files](https://ai.google.dev/tutorials/prompting_with_media) in the docs, including the supported formats and maximum length for audio files."
      ]
    }
  ],
  "metadata": {
    "colab": {
      "provenance": []
    },
    "kernelspec": {
      "display_name": "Python 3",
      "name": "python3"
    }
  },
  "nbformat": 4,
  "nbformat_minor": 0
}