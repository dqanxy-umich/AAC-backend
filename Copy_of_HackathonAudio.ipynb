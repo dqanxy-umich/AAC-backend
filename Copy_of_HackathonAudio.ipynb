{
  "cells": [
    {
      "cell_type": "markdown",
      "metadata": {
        "id": "0etRtS83RcWS"
      },
      "source": [
        "# Gemini API: Audio Quickstart\n",
        "\n",
        "<table align=\"left\">\n",
        "  <td>\n",
        "    <a target=\"_blank\" href=\"https://colab.research.google.com/github/google-gemini/cookbook/blob/main/quickstarts/Audio.ipynb\"><img src=\"https://www.tensorflow.org/images/colab_logo_32px.png\" />Run in Google Colab</a>\n",
        "  </td>\n",
        "</table>"
      ]
    },
    {
      "cell_type": "markdown",
      "source": [
        "This notebook provides an example of how to prompt Gemini 1.5 Pro using an audio file. In this case, you'll use a [sound recording](https://www.jfklibrary.org/asset-viewer/archives/jfkwha-006) of President John F. Kennedy’s 1961 State of the Union address."
      ],
      "metadata": {
        "id": "r1IzNLho-NqV"
      }
    },
    {
      "cell_type": "code",
      "execution_count": null,
      "metadata": {
        "id": "Y6eH_Aq_NyNi",
        "colab": {
          "base_uri": "https://localhost:8080/"
        },
        "outputId": "090c2bcb-7aa5-4701-8d79-eaf3da8e1740"
      },
      "outputs": [
        {
          "output_type": "stream",
          "name": "stdout",
          "text": [
            "\u001b[2K     \u001b[90m━━━━━━━━━━━━━━━━━━━━━━━━━━━━━━━━━━━━━━━━\u001b[0m \u001b[32m142.1/142.1 kB\u001b[0m \u001b[31m2.4 MB/s\u001b[0m eta \u001b[36m0:00:00\u001b[0m\n",
            "\u001b[2K     \u001b[90m━━━━━━━━━━━━━━━━━━━━━━━━━━━━━━━━━━━━━━━━\u001b[0m \u001b[32m663.6/663.6 kB\u001b[0m \u001b[31m8.6 MB/s\u001b[0m eta \u001b[36m0:00:00\u001b[0m\n",
            "\u001b[?25h"
          ]
        }
      ],
      "source": [
        "!pip install -q -U google-generativeai"
      ]
    },
    {
      "cell_type": "code",
      "execution_count": 3,
      "metadata": {
        "id": "LSe1pMEpR2L2"
      },
      "outputs": [],
      "source": [
        "import google.generativeai as genai"
      ]
    },
    {
      "cell_type": "markdown",
      "metadata": {
        "id": "TXiv-NeZR5WA"
      },
      "source": [
        "## Configure your API key\n",
        "\n",
        "To run the following cell, your API key must be stored it in a Colab Secret named `GOOGLE_API_KEY`. If you don't already have an API key, or you're not sure how to create a Colab Secret, see [Authentication](https://github.com/google-gemini/cookbook/blob/main/quickstarts/Authentication.ipynb) for an example."
      ]
    },
    {
      "cell_type": "code",
      "execution_count": 4,
      "metadata": {
        "id": "dm-iaNMGPdid"
      },
      "outputs": [],
      "source": [
        "from google.colab import userdata\n",
        "GOOGLE_API_KEY=userdata.get('GOOGLE_API_KEY')\n",
        "\n",
        "genai.configure(api_key=GOOGLE_API_KEY)"
      ]
    },
    {
      "cell_type": "markdown",
      "metadata": {
        "id": "2YoxMrCdR7hf"
      },
      "source": [
        "## Upload an audio file with the File API\n",
        "\n",
        "To use an audio file in your prompt, you must first upload it using the [File API](https://github.com/google-gemini/cookbook/blob/main/quickstarts/File_API.ipynb).\n"
      ]
    },
    {
      "cell_type": "code",
      "execution_count": null,
      "metadata": {
        "id": "MAObE0BpaAwG"
      },
      "outputs": [],
      "source": [
        "your_file = genai.upload_file(path='sample_free_tmr .wav')"
      ]
    },
    {
      "cell_type": "code",
      "source": [
        "from google.colab import drive\n",
        "drive.mount('/content/drive')"
      ],
      "metadata": {
        "colab": {
          "base_uri": "https://localhost:8080/"
        },
        "id": "gJYbdNNAosDg",
        "outputId": "0deeba6c-26e9-4d5a-bf83-f8132006bb47"
      },
      "execution_count": null,
      "outputs": [
        {
          "output_type": "stream",
          "name": "stdout",
          "text": [
            "Mounted at /content/drive\n"
          ]
        }
      ]
    },
    {
      "cell_type": "markdown",
      "metadata": {
        "id": "m01XDoo4UQvN"
      },
      "source": [
        "## Use the file in your prompt"
      ]
    },
    {
      "cell_type": "code",
      "execution_count": 23,
      "metadata": {
        "id": "YmISEsqpafRb",
        "outputId": "64595893-a729-43e3-c27f-0613f3a07a60",
        "colab": {
          "base_uri": "https://localhost:8080/"
        }
      },
      "outputs": [
        {
          "output_type": "stream",
          "name": "stdout",
          "text": [
            "{'candidates': [{'content': {'parts': [{'text': '[\\n  {\"phrase\":\"I\\'m not sure yet, probably just relaxing or hanging out with friends.\"},\\n  {\"phrase\":\"I might play some video games or work on some coding projects.\"},\\n  {\"phrase\":\"If the weather\\'s nice, I might go for a bike ride or play some soccer.\"},\\n  {\"phrase\":\"I have to do some homework, but after that, I\\'m free.\"},\\n  {\"phrase\":\"I\\'m going to grab a bite to eat with some friends.\"},\\n  {\"phrase\":\"I have a club meeting after school.\"},\\n  {\"phrase\":\"I\\'m going to the gym to work out.\"},\\n  {\"phrase\":\"I\\'m just going to head home and chill.\"},\\n  {\"phrase\":\"I have a shift at work.\"},\\n  {\"phrase\":\"I\\'m going to catch up on some reading.\"}\\n]\\n'}], 'role': 'model'}, 'finishReason': 'STOP', 'index': 0, 'safetyRatings': [{'category': 'HARM_CATEGORY_SEXUALLY_EXPLICIT', 'probability': 'NEGLIGIBLE'}, {'category': 'HARM_CATEGORY_HATE_SPEECH', 'probability': 'NEGLIGIBLE'}, {'category': 'HARM_CATEGORY_HARASSMENT', 'probability': 'NEGLIGIBLE'}, {'category': 'HARM_CATEGORY_DANGEROUS_CONTENT', 'probability': 'NEGLIGIBLE'}]}]}\n"
          ]
        }
      ],
      "source": [
        "user = {\n",
        "  \"name\" : \"binks\",\n",
        "  \"age\" : 20,\n",
        "  \"hobbies\" : [\"soccer\", \"video games\", \"coding\"],\n",
        "  \"occupation\" : \"student\"\n",
        "}\n",
        "\n",
        "\n",
        "\n",
        "prompt = '\"What are you doing after school? Return a list of phrases that can be used in response to the conversational input using this JSON schema\\n                  {type: object, properties: { phrase: {type: string}}}\"'\n",
        "instruction = (\n",
        "    f\"You are {user['name']} that is having a conversation.\"\n",
        "    f\"You are {user['age']} years old and enjoy {user['hobbies']} hobbies and your occupation is {user['occupation']}.\"\n",
        "    \"Only talk about these attributes if you are certain they are relevant to the conversation.\"\n",
        "    \"You will generate ten feasible responses to the conversation.\"\n",
        "    \"Do not include any additional text describing each reponse, just the list of responses.\"\n",
        "    \"Return the responses as semicolon seperated values, with no newline characters or \\n.\"\n",
        ")\n",
        "\n",
        "# instruction = (\n",
        "#     f\"You are {user['name']}.\"\n",
        "# )\n",
        "\n",
        "text_input = '\"What are you doing after school?\"'\n",
        "\n",
        "# model = genai.GenerativeModel(\n",
        "#     'models/gemini-1.5-pro-latest',\n",
        "#     system_instruction=instruction\n",
        "#   )\n",
        "# response = model.generate_content([prompt, text_input])\n",
        "# responses = response.text.replace('\\n', '').split(\";\")\n",
        "# print(responses)\n",
        "import requests\n",
        "\n",
        "headers = {\n",
        "    'Content-Type': 'application/json',\n",
        "}\n",
        "data = '{ \"system_instruction\": {\\n    \"parts\":\\n      { \"text\": ' + f'\"{instruction}\"' + '}},\\n      \"contents\": [{\\n            \"parts\": [\\n              {\\n                \"text\": '+ f'{prompt}' + '\\n              }\\n            ]\\n          }],\\n          \"generationConfig\": {\\n            \"response_mime_type\": \"application/json\",\\n          }\\n        }'\n",
        "\n",
        "# data = '{ \"system_instruction\": {\\n    \"parts\":\\n      { \"text\": instruction}},\\n      \"contents\": [{\\n            \"parts\": [\\n              {\\n                \"text\": \"List 5 popular cookie recipes using this JSON schema:\\n                  {type: object, properties: { recipe_name: {type: string}}}\"\\n              }\\n            ]\\n          }],\\n          \"generationConfig\": {\\n            \"response_mime_type\": \"application/json\",\\n          }\\n        }'\n",
        "\n",
        "response = requests.post(\n",
        "    f'https://generativelanguage.googleapis.com/v1beta/models/gemini-1.5-pro-latest:generateContent?key={GOOGLE_API_KEY}',\n",
        "    headers=headers,\n",
        "    data=data,\n",
        ")\n",
        "\n",
        "dictionary = response.json()\n",
        "\n",
        "\n",
        "\n",
        "\n",
        "print(dictionary)"
      ]
    },
    {
      "cell_type": "code",
      "source": [
        "import json\n",
        "responses = dictionary['candidates'][0]['content']['parts'][0]['text']\n",
        "new = json.loads(responses)\n",
        "for response in new:\n",
        "  print(response['phrase'])\n",
        "\n"
      ],
      "metadata": {
        "colab": {
          "base_uri": "https://localhost:8080/"
        },
        "id": "eB-UoZmkGHDk",
        "outputId": "92f80b73-aedf-4f4e-f868-9f9be976e8a4"
      },
      "execution_count": 44,
      "outputs": [
        {
          "output_type": "stream",
          "name": "stdout",
          "text": [
            "I'm not sure yet, probably just relaxing or hanging out with friends.\n",
            "I might play some video games or work on some coding projects.\n",
            "If the weather's nice, I might go for a bike ride or play some soccer.\n",
            "I have to do some homework, but after that, I'm free.\n",
            "I'm going to grab a bite to eat with some friends.\n",
            "I have a club meeting after school.\n",
            "I'm going to the gym to work out.\n",
            "I'm just going to head home and chill.\n",
            "I have a shift at work.\n",
            "I'm going to catch up on some reading.\n"
          ]
        }
      ]
    },
    {
      "cell_type": "markdown",
      "metadata": {
        "id": "WVFm2MOLWJO5"
      },
      "source": [
        "## Count audio tokens\n",
        "\n",
        "You can count the number of tokens in your audio file like this."
      ]
    },
    {
      "cell_type": "code",
      "execution_count": null,
      "metadata": {
        "id": "O0xk2-6CWLfC",
        "outputId": "3a3a117d-64fa-4527-8d71-739fe803212b"
      },
      "outputs": [
        {
          "data": {
            "text/plain": [
              "total_tokens: 78330"
            ]
          },
          "execution_count": 9,
          "metadata": {},
          "output_type": "execute_result"
        }
      ],
      "source": [
        "model.count_tokens([your_file])"
      ]
    },
    {
      "cell_type": "markdown",
      "metadata": {
        "id": "zxxIUR8SV6dK"
      },
      "source": [
        "## Learning more"
      ]
    },
    {
      "cell_type": "markdown",
      "metadata": {
        "id": "zudj6gxEWR2Q"
      },
      "source": [
        "* Learn more about the [File API](https://github.com/google-gemini/cookbook/blob/main/quickstarts/File_API.ipynb) with the quickstart.\n",
        "\n",
        "* Learn more about prompting with [media files](https://ai.google.dev/tutorials/prompting_with_media) in the docs, including the supported formats and maximum length for audio files."
      ]
    }
  ],
  "metadata": {
    "colab": {
      "provenance": []
    },
    "kernelspec": {
      "display_name": "Python 3",
      "name": "python3"
    }
  },
  "nbformat": 4,
  "nbformat_minor": 0
}